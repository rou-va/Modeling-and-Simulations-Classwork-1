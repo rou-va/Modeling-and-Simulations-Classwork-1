{
 "cells": [
  {
   "cell_type": "markdown",
   "id": "fd9f6b23-5e9b-4986-88b1-341c381c3196",
   "metadata": {},
   "source": [
    "## Classwork for Lecture 4 and 5"
   ]
  },
  {
   "cell_type": "markdown",
   "id": "1917d4b0-66e9-4a65-84c1-62c74cd448a8",
   "metadata": {},
   "source": [
    "### Single Server Queuing System with Infinite Queue Length"
   ]
  },
  {
   "cell_type": "code",
   "execution_count": 1,
   "id": "57418149-3272-44b1-ba88-7e668bdce1b6",
   "metadata": {},
   "outputs": [
    {
     "name": "stdin",
     "output_type": "stream",
     "text": [
      "Enter arrival rate (customers per time unit):  3\n",
      "Enter service rate (customers per time unit):  4\n",
      "Enter the number of people in the queue (n):  6\n"
     ]
    },
    {
     "name": "stdout",
     "output_type": "stream",
     "text": [
      "\n",
      "Probabilities:\n",
      "Probability of zero people: 0.2500\n",
      "Probability of no people: 0.2500\n",
      "Probability of 6 people: 0.0445\n",
      "Probability of at most 6 people: 0.8665\n",
      "Probability of at least 6 people: 0.1780\n"
     ]
    }
   ],
   "source": [
    "import math\n",
    "\n",
    "def calculate_probabilities(arrival_rate, service_rate, n):\n",
    "    rho = arrival_rate / service_rate\n",
    "    p0 = 1 - rho\n",
    "    pn = p0 * (rho ** n)\n",
    "    p_no_people = p0\n",
    "    p_at_most_n_people = sum(p0 * (rho ** i) for i in range(n + 1))\n",
    "    p_at_least_n_people = 1 - sum(p0 * (rho ** i) for i in range(n))\n",
    "\n",
    "    return {\n",
    "        \"Probability of zero people\": p0,\n",
    "        \"Probability of no people\": p_no_people,\n",
    "        f\"Probability of {n} people\": pn,\n",
    "        \"Probability of at most {} people\".format(n): p_at_most_n_people,\n",
    "        \"Probability of at least {} people\".format(n): p_at_least_n_people\n",
    "    }\n",
    "\n",
    "def main():\n",
    "    arrival_rate = float(input(\"Enter arrival rate (customers per time unit): \"))\n",
    "    service_rate = float(input(\"Enter service rate (customers per time unit): \"))\n",
    "    n = int(input(\"Enter the number of people in the queue (n): \"))\n",
    "\n",
    "    probabilities = calculate_probabilities(arrival_rate, service_rate, n)\n",
    "\n",
    "    print(\"\\nProbabilities:\")\n",
    "    for key, value in probabilities.items():\n",
    "        print(f\"{key}: {value:.4f}\")\n",
    "\n",
    "if __name__ == \"__main__\":\n",
    "    main()"
   ]
  },
  {
   "cell_type": "markdown",
   "id": "1ebf1cef-5c1e-4637-af71-94dab9d14cb2",
   "metadata": {},
   "source": [
    "### Single Server Queuing System with Finite Queue Length"
   ]
  },
  {
   "cell_type": "code",
   "execution_count": 10,
   "id": "e57ba14a-4dce-4acc-be51-8870bace7d87",
   "metadata": {},
   "outputs": [
    {
     "name": "stdin",
     "output_type": "stream",
     "text": [
      "Enter arrival rate (customers per time unit):  4\n",
      "Enter service rate (customers per time unit):  5\n",
      "Enter the maximum queue length (K):  6\n"
     ]
    },
    {
     "name": "stdout",
     "output_type": "stream",
     "text": [
      "\n",
      "Probabilities:\n",
      "Probability of zero people: 0.4493\n",
      "Probability of no people: 0.9998\n",
      "Probability of no queue in the system: 0.0899\n",
      "Probability of k people in the system: 0.0002\n",
      "Probability of person not joining the system: 0.0077\n",
      "Probability of person joining the system: 0.9923\n"
     ]
    }
   ],
   "source": [
    "import math\n",
    "\n",
    "def calculate_probabilities(arrival_rate, service_rate, K):\n",
    "    rho = arrival_rate / service_rate\n",
    "    p0 = 1 / (sum((rho ** i) / math.factorial(i) for i in range(K + 1)) + ((rho ** K) / math.factorial(K)) * (K / (K - rho)))\n",
    "    p_no_people = sum((rho ** i) / math.factorial(i) for i in range(K + 1)) * p0\n",
    "\n",
    "    probabilities = {\n",
    "        \"Probability of zero people\": p0,\n",
    "        \"Probability of no people\": p_no_people\n",
    "    }\n",
    "\n",
    "\n",
    "    p_no_queue = p0 * (1 - rho)\n",
    "    p_no_queue_no_people = p_no_queue * (1 - sum((rho ** i) / math.factorial(i) for i in range(1, K + 1)))\n",
    "\n",
    "    p_k_people = (rho ** K) * p0 / math.factorial(K)\n",
    "    \n",
    "    p_no_join_system = (arrival_rate / (arrival_rate + service_rate)) ** K\n",
    "    p_join_system = 1 - p_no_join_system\n",
    "\n",
    "    probabilities[\"Probability of no queue in the system\"] = p_no_queue\n",
    "    probabilities[\"Probability of k people in the system\"] = p_k_people\n",
    "    probabilities[\"Probability of person not joining the system\"] = p_no_join_system\n",
    "    probabilities[\"Probability of person joining the system\"] = p_join_system\n",
    "\n",
    "    return probabilities\n",
    "\n",
    "def main():\n",
    "    arrival_rate = float(input(\"Enter arrival rate (customers per time unit): \"))\n",
    "    service_rate = float(input(\"Enter service rate (customers per time unit): \"))\n",
    "    K = int(input(\"Enter the maximum queue length (K): \"))\n",
    "\n",
    "    probabilities = calculate_probabilities(arrival_rate, service_rate, K)\n",
    "\n",
    "    print(\"\\nProbabilities:\")\n",
    "    for key, value in probabilities.items():\n",
    "        print(f\"{key}: {value:.4f}\")\n",
    "\n",
    "if __name__ == \"__main__\":\n",
    "    main()\n"
   ]
  },
  {
   "cell_type": "code",
   "execution_count": null,
   "id": "4078270e-4518-4b63-9f29-4e7489ccb43d",
   "metadata": {},
   "outputs": [],
   "source": []
  }
 ],
 "metadata": {
  "kernelspec": {
   "display_name": "Python 3 (ipykernel)",
   "language": "python",
   "name": "python3"
  },
  "language_info": {
   "codemirror_mode": {
    "name": "ipython",
    "version": 3
   },
   "file_extension": ".py",
   "mimetype": "text/x-python",
   "name": "python",
   "nbconvert_exporter": "python",
   "pygments_lexer": "ipython3",
   "version": "3.11.7"
  }
 },
 "nbformat": 4,
 "nbformat_minor": 5
}
